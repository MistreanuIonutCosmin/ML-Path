{
  "nbformat": 4,
  "nbformat_minor": 0,
  "metadata": {
    "colab": {
      "name": "CauchySchawarzDivergence.ipynb",
      "provenance": [],
      "include_colab_link": true
    },
    "kernelspec": {
      "name": "python3",
      "display_name": "Python 3"
    },
    "accelerator": "GPU"
  },
  "cells": [
    {
      "cell_type": "markdown",
      "metadata": {
        "id": "view-in-github",
        "colab_type": "text"
      },
      "source": [
        "<a href=\"https://colab.research.google.com/github/MistreanuIonutCosmin/ML-Path/blob/master/implementations/CauchySchawarzDivergence.ipynb\" target=\"_parent\"><img src=\"https://colab.research.google.com/assets/colab-badge.svg\" alt=\"Open In Colab\"/></a>"
      ]
    },
    {
      "cell_type": "code",
      "metadata": {
        "id": "2__ElMixG62C",
        "colab_type": "code",
        "colab": {}
      },
      "source": [
        "import torch\n",
        "import numpy as np"
      ],
      "execution_count": 0,
      "outputs": []
    },
    {
      "cell_type": "markdown",
      "metadata": {
        "id": "T7Q_XnAPWlMR",
        "colab_type": "text"
      },
      "source": [
        "![Cauch-Schwarz Divergence](https://raw.githubusercontent.com/MistreanuIonutCosmin/ML-Path/master/assets/CauchSchwarzDivergence.png)"
      ]
    },
    {
      "cell_type": "code",
      "metadata": {
        "id": "e6WbZruYHEJU",
        "colab_type": "code",
        "colab": {}
      },
      "source": [
        "device = 'cuda'\n",
        "def encodeOneHot(tensor):\n",
        "    a = tensor.cpu().numpy()\n",
        "    b = np.zeros((a.size, 10))\n",
        "    b[np.arange(a.size), a] = 1\n",
        "    return torch.from_numpy(b).float().to(device)\n",
        "\n",
        "class CauchySchawarzDivergence(torch.nn.Module):\n",
        "    def __init__(self):\n",
        "        super(CauchySchawarzDivergence, self).__init__()\n",
        "\n",
        "    def forward(self, outputs, target):\n",
        "        y = encodeOneHot(target)\n",
        "        nom = torch.sum(torch.mm(outputs, y.t()), dim = 1)\n",
        "        denom = torch.norm(outputs, 2) * torch.norm(y, 2)\n",
        "        return torch.mean(-1 * torch.log(nom/denom))\n"
      ],
      "execution_count": 0,
      "outputs": []
    },
    {
      "cell_type": "code",
      "metadata": {
        "id": "QkPtZACNRtaR",
        "colab_type": "code",
        "colab": {
          "base_uri": "https://localhost:8080/",
          "height": 52
        },
        "outputId": "4a10eefc-d6be-43eb-dd13-f206336dbd3c"
      },
      "source": [
        "b = np.zeros((a.size, 10))\n",
        "b"
      ],
      "execution_count": 29,
      "outputs": [
        {
          "output_type": "execute_result",
          "data": {
            "text/plain": [
              "array([[0., 0., 0., 0., 0., 0., 0., 0., 0., 0.],\n",
              "       [0., 0., 0., 0., 0., 0., 0., 0., 0., 0.]])"
            ]
          },
          "metadata": {
            "tags": []
          },
          "execution_count": 29
        }
      ]
    },
    {
      "cell_type": "code",
      "metadata": {
        "id": "Ryl19lwdUEKn",
        "colab_type": "code",
        "colab": {
          "base_uri": "https://localhost:8080/",
          "height": 52
        },
        "outputId": "8961cb73-09c7-4690-c174-cc54e71480d2"
      },
      "source": [
        " b[[0,1], [9,2]] = 1\n",
        " b"
      ],
      "execution_count": 32,
      "outputs": [
        {
          "output_type": "execute_result",
          "data": {
            "text/plain": [
              "array([[0., 0., 0., 0., 0., 0., 0., 0., 0., 1.],\n",
              "       [0., 0., 1., 0., 0., 0., 0., 0., 0., 0.]])"
            ]
          },
          "metadata": {
            "tags": []
          },
          "execution_count": 32
        }
      ]
    },
    {
      "cell_type": "code",
      "metadata": {
        "id": "g0BrNqStWeDN",
        "colab_type": "code",
        "colab": {}
      },
      "source": [
        "## Note: For every other custom function that is not continuous, you must define \n",
        "## a backward function as well"
      ],
      "execution_count": 0,
      "outputs": []
    },
    {
      "cell_type": "code",
      "metadata": {
        "id": "lpOmbw_bZ-DU",
        "colab_type": "code",
        "colab": {}
      },
      "source": [
        "optimizer = torch.optim.Adam(network.parameters(), lr=0.0005)\n",
        "criterion = CauchySchawarzDivergenceCSD()\n",
        "\n",
        "epoch = 128\n",
        "steps = len(data_loader) // BATCH_SIZE\n",
        "\n",
        "network.train(True)\n",
        "\n",
        "for e in range(epochs):\n",
        "    epoch_loss = 0\n",
        "    performed_steps = 0\n",
        "\n",
        "    for i, (images, labels) in enumerate(train_loader):\n",
        "        if i == steps:\n",
        "            break\n",
        "        images, labels = images.to(device), labels.to(device)\n",
        "        optimizer.zero_grad()\n",
        "        outputs = network(images)\n",
        "        loss = criterion(outputs, labels)\n",
        "        loss.backward()\n",
        "        optimizer.step()\n",
        "        epoch_loss += loss\n",
        "        performed_steps += 1\n",
        "        epoch_loss / steps"
      ],
      "execution_count": 0,
      "outputs": []
    },
    {
      "cell_type": "code",
      "metadata": {
        "id": "ax4-Pr2zdbxu",
        "colab_type": "code",
        "colab": {}
      },
      "source": [
        "avg_loss = 0\n",
        "avg_acc = 0\n",
        "\n",
        "network.train(False)\n",
        "\n",
        "with torch.no_grad():\n",
        "    steps = 0\n",
        "    \n",
        "    for images, labels in test_loader:\n",
        "        images, labels = images.to(device), labels.to(deivce)\n",
        "        outputs = network(images)\n",
        "        avg_loss += criterion(outputs, labels)\n",
        "        _, preds = torch.max(outputs, 1)\n",
        "        avg_acc += preds.g(labels).sum().item()\n",
        "        steps += 1\n",
        "        "
      ],
      "execution_count": 0,
      "outputs": []
    }
  ]
}