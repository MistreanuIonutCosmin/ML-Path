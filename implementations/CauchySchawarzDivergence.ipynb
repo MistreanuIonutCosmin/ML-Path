{
  "nbformat": 4,
  "nbformat_minor": 0,
  "metadata": {
    "colab": {
      "name": "CauchySchawarzDivergence.ipynb",
      "provenance": [],
      "authorship_tag": "ABX9TyNrmJW+kFZIZ1tg/Op+UnvO",
      "include_colab_link": true
    },
    "kernelspec": {
      "name": "python3",
      "display_name": "Python 3"
    }
  },
  "cells": [
    {
      "cell_type": "markdown",
      "metadata": {
        "id": "view-in-github",
        "colab_type": "text"
      },
      "source": [
        "<a href=\"https://colab.research.google.com/github/MistreanuIonutCosmin/ML-Path/blob/master/implementations/CauchySchawarzDivergence.ipynb\" target=\"_parent\"><img src=\"https://colab.research.google.com/assets/colab-badge.svg\" alt=\"Open In Colab\"/></a>"
      ]
    },
    {
      "cell_type": "code",
      "metadata": {
        "id": "2__ElMixG62C",
        "colab_type": "code",
        "colab": {}
      },
      "source": [
        "import torch"
      ],
      "execution_count": 0,
      "outputs": []
    },
    {
      "cell_type": "markdown",
      "metadata": {
        "id": "T7Q_XnAPWlMR",
        "colab_type": "text"
      },
      "source": [
        "![Cauch-Schwarz Divergence](https://github.com/MistreanuIonutCosmin/ML-Path/blob/master/implementations/assets/CauchSchwarzDivergence.png?raw=1)"
      ]
    },
    {
      "cell_type": "code",
      "metadata": {
        "id": "e6WbZruYHEJU",
        "colab_type": "code",
        "colab": {}
      },
      "source": [
        "def encodeOneHot(tensor):\n",
        "    a = tensor.cpu().numpy()\n",
        "    b = np.zeros((a.size, 10))\n",
        "    b[np.arrange(a.size), a] = 1\n",
        "    return torch.from_numpy(b).float().to(device)\n",
        "\n",
        "class CSD(torch.nn.Module):\n",
        "    def __init__(self):\n",
        "        super(CSD, self).__init__()\n",
        "\n",
        "    def forward(self, outputs, target):\n",
        "        y = encodeOneHot(target)\n",
        "        nom = torch.sum(torch.mm(outputs, y.t()), dim = 1)\n",
        "        denom = torch.norm(outputs, 2) * torch.norm(y, 2)\n",
        "        return torch.mean(-1 * torch.log(nom/denom))"
      ],
      "execution_count": 0,
      "outputs": []
    },
    {
      "cell_type": "code",
      "metadata": {
        "id": "3sts-inYNtrR",
        "colab_type": "code",
        "colab": {}
      },
      "source": [
        ""
      ],
      "execution_count": 0,
      "outputs": []
    },
    {
      "cell_type": "code",
      "metadata": {
        "id": "Df5NvhueWjYI",
        "colab_type": "code",
        "colab": {}
      },
      "source": [
        ""
      ],
      "execution_count": 0,
      "outputs": []
    }
  ]
}